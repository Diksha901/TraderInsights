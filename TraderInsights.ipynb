{
  "nbformat": 4,
  "nbformat_minor": 0,
  "metadata": {
    "colab": {
      "provenance": []
    },
    "kernelspec": {
      "name": "python3",
      "display_name": "Python 3"
    },
    "language_info": {
      "name": "python"
    }
  },
  "cells": [
    {
      "cell_type": "markdown",
      "source": [
        "#**Assignment Overview**\n",
        "\n",
        "You will have to work with two primary datasets:\n",
        "1. Bitcoin Market Sentiment Dataset\n",
        "     Columns:\n",
        "     * Date\n",
        "     * Classification (Fear/Greed)\n",
        "2. Historical Trader Data from Hyperliquid\n",
        "\n",
        "     Columns include:\n",
        "    * account\n",
        "    * symbol\n",
        "    * execution price\n",
        "    * size\n",
        "    * side\n",
        "    * time\n",
        "    * start position\n",
        "    * event\n",
        "    * closedPnL\n",
        "    * leverage, etc.\n",
        "**Our goal : Your objective is to explore the relationship between trader performance and market\n",
        "sentiment, uncover hidden patterns, and deliver insights that can drive smarter trading\n",
        "strategies.**\n"
      ],
      "metadata": {
        "id": "hA5IQce2BCsl"
      }
    },
    {
      "cell_type": "markdown",
      "source": [
        "closedPnL\n",
        "* closed Profit and Loss .\n",
        "* Positive means profit , negative means loss\n",
        "* needed to analyze trader performance\n",
        "\n",
        "\n",
        "side     \n",
        "\n",
        "*   direction of trade\n",
        "*   buy : Trader expects price to go up\n",
        "*   sell : Trader expects price to go down\n"
      ],
      "metadata": {
        "id": "R96M_pJzFRUo"
      }
    },
    {
      "cell_type": "code",
      "execution_count": 1,
      "metadata": {
        "id": "LKyEuxMFA37x"
      },
      "outputs": [],
      "source": [
        "## import required libraries\n",
        "import pandas as pd\n",
        "import numpy as np\n",
        "import matplotlib.pyplot as plt\n",
        "import seaborn as sns"
      ]
    },
    {
      "cell_type": "code",
      "source": [
        "## Loading data as pandas dataframe\n",
        "historical_df=pd.read_csv('/content/historical_data.csv')\n",
        "sentiment_df=pd.read_csv('/content/fear_greed_index.csv')\n",
        "##Getting to know the basic structure of dataset\n",
        "print(historical_df.columns)\n",
        "print(f\"Historical data shape : {historical_df.shape}\")\n",
        "print(sentiment_df.columns)\n",
        "print(f\"Sentiment data shape : {sentiment_df.shape}\")"
      ],
      "metadata": {
        "colab": {
          "base_uri": "https://localhost:8080/"
        },
        "id": "RL_Jkl2RCi6G",
        "outputId": "b110a72d-54f2-45b1-bfe9-f827d76ff974"
      },
      "execution_count": 2,
      "outputs": [
        {
          "output_type": "stream",
          "name": "stdout",
          "text": [
            "Index(['Account', 'Coin', 'Execution Price', 'Size Tokens', 'Size USD', 'Side',\n",
            "       'Timestamp IST', 'Start Position', 'Direction', 'Closed PnL',\n",
            "       'Transaction Hash', 'Order ID', 'Crossed', 'Fee', 'Trade ID',\n",
            "       'Timestamp'],\n",
            "      dtype='object')\n",
            "Historical data shape : (211224, 16)\n",
            "Index(['timestamp', 'value', 'classification', 'date'], dtype='object')\n",
            "Sentiment data shape : (2644, 4)\n"
          ]
        }
      ]
    },
    {
      "cell_type": "code",
      "source": [
        "print(sentiment_df.head())\n",
        "print(f\"sentiment data shape : {sentiment_df.shape}\")"
      ],
      "metadata": {
        "colab": {
          "base_uri": "https://localhost:8080/"
        },
        "id": "kVeCgSO0HfiV",
        "outputId": "717f17fe-a78c-4979-dc90-da3f68aca0b4"
      },
      "execution_count": 3,
      "outputs": [
        {
          "output_type": "stream",
          "name": "stdout",
          "text": [
            "    timestamp  value classification        date\n",
            "0  1517463000     30           Fear  2018-02-01\n",
            "1  1517549400     15   Extreme Fear  2018-02-02\n",
            "2  1517635800     40           Fear  2018-02-03\n",
            "3  1517722200     24   Extreme Fear  2018-02-04\n",
            "4  1517808600     11   Extreme Fear  2018-02-05\n",
            "sentiment data shape : (2644, 4)\n"
          ]
        }
      ]
    },
    {
      "cell_type": "markdown",
      "source": [
        "# **Data Preprocessing**\n",
        "\n",
        "\n",
        "*   Check the type of data stored in the dataframe\n",
        "*   Handle missing values or null values\n",
        "*   Convert the timestamp column of historical dataframe to date time format to further map with the date column of sentiment df\n",
        "*  Merging the dfs based on timestamp\n",
        "\n"
      ],
      "metadata": {
        "id": "vJ5JrTNUc96O"
      }
    },
    {
      "cell_type": "code",
      "source": [
        "historical_df.info()"
      ],
      "metadata": {
        "colab": {
          "base_uri": "https://localhost:8080/"
        },
        "id": "A39-c-Ymaz8Z",
        "outputId": "a557f2e3-c11a-4e0d-f34a-728327f062b0"
      },
      "execution_count": 4,
      "outputs": [
        {
          "output_type": "stream",
          "name": "stdout",
          "text": [
            "<class 'pandas.core.frame.DataFrame'>\n",
            "RangeIndex: 211224 entries, 0 to 211223\n",
            "Data columns (total 16 columns):\n",
            " #   Column            Non-Null Count   Dtype  \n",
            "---  ------            --------------   -----  \n",
            " 0   Account           211224 non-null  object \n",
            " 1   Coin              211224 non-null  object \n",
            " 2   Execution Price   211224 non-null  float64\n",
            " 3   Size Tokens       211224 non-null  float64\n",
            " 4   Size USD          211224 non-null  float64\n",
            " 5   Side              211224 non-null  object \n",
            " 6   Timestamp IST     211224 non-null  object \n",
            " 7   Start Position    211224 non-null  float64\n",
            " 8   Direction         211224 non-null  object \n",
            " 9   Closed PnL        211224 non-null  float64\n",
            " 10  Transaction Hash  211224 non-null  object \n",
            " 11  Order ID          211224 non-null  int64  \n",
            " 12  Crossed           211224 non-null  bool   \n",
            " 13  Fee               211224 non-null  float64\n",
            " 14  Trade ID          211224 non-null  float64\n",
            " 15  Timestamp         211224 non-null  float64\n",
            "dtypes: bool(1), float64(8), int64(1), object(6)\n",
            "memory usage: 24.4+ MB\n"
          ]
        }
      ]
    },
    {
      "cell_type": "code",
      "source": [
        "sentiment_df.info()"
      ],
      "metadata": {
        "colab": {
          "base_uri": "https://localhost:8080/"
        },
        "id": "Aab2XEVicbZ7",
        "outputId": "cacf9cb8-e2cd-44d6-bed0-2114355828ad"
      },
      "execution_count": 5,
      "outputs": [
        {
          "output_type": "stream",
          "name": "stdout",
          "text": [
            "<class 'pandas.core.frame.DataFrame'>\n",
            "RangeIndex: 2644 entries, 0 to 2643\n",
            "Data columns (total 4 columns):\n",
            " #   Column          Non-Null Count  Dtype \n",
            "---  ------          --------------  ----- \n",
            " 0   timestamp       2644 non-null   int64 \n",
            " 1   value           2644 non-null   int64 \n",
            " 2   classification  2644 non-null   object\n",
            " 3   date            2644 non-null   object\n",
            "dtypes: int64(2), object(2)\n",
            "memory usage: 82.8+ KB\n"
          ]
        }
      ]
    },
    {
      "cell_type": "markdown",
      "source": [
        "***There are no null values or missing values in any dataframe so we can proceed to merging the dfs using dates***"
      ],
      "metadata": {
        "id": "F_Gn-oNRhyfu"
      }
    },
    {
      "cell_type": "markdown",
      "source": [
        "**Attach the sentiment to each trade based on date**"
      ],
      "metadata": {
        "id": "21H7MIruhTgz"
      }
    },
    {
      "cell_type": "code",
      "source": [
        "historical_df['Timestamp IST'] = pd.to_datetime(historical_df['Timestamp IST'], format=\"%d-%m-%Y %H:%M\")\n",
        "historical_df['date'] = historical_df['Timestamp IST'].dt.date\n",
        "sentiment_df['date'] = pd.to_datetime(sentiment_df['date']).dt.date\n",
        "#Merging the dfs using the dates\n",
        "merged_df = historical_df.merge(sentiment_df[['date', 'classification']], on='date', how='left')\n"
      ],
      "metadata": {
        "id": "5d69IOTtcOiT"
      },
      "execution_count": 6,
      "outputs": []
    },
    {
      "cell_type": "code",
      "source": [
        "merged_df.rename(columns={'classification':'Sentiment'},inplace=True)"
      ],
      "metadata": {
        "id": "o3msts4DgiR-"
      },
      "execution_count": 7,
      "outputs": []
    },
    {
      "cell_type": "code",
      "source": [
        "print(merged_df.shape)\n",
        "print(merged_df.info())"
      ],
      "metadata": {
        "colab": {
          "base_uri": "https://localhost:8080/"
        },
        "id": "EJTxYlVne0Ir",
        "outputId": "2770ee46-6302-4136-cc78-d34dd90237b2"
      },
      "execution_count": 8,
      "outputs": [
        {
          "output_type": "stream",
          "name": "stdout",
          "text": [
            "(211224, 18)\n",
            "<class 'pandas.core.frame.DataFrame'>\n",
            "RangeIndex: 211224 entries, 0 to 211223\n",
            "Data columns (total 18 columns):\n",
            " #   Column            Non-Null Count   Dtype         \n",
            "---  ------            --------------   -----         \n",
            " 0   Account           211224 non-null  object        \n",
            " 1   Coin              211224 non-null  object        \n",
            " 2   Execution Price   211224 non-null  float64       \n",
            " 3   Size Tokens       211224 non-null  float64       \n",
            " 4   Size USD          211224 non-null  float64       \n",
            " 5   Side              211224 non-null  object        \n",
            " 6   Timestamp IST     211224 non-null  datetime64[ns]\n",
            " 7   Start Position    211224 non-null  float64       \n",
            " 8   Direction         211224 non-null  object        \n",
            " 9   Closed PnL        211224 non-null  float64       \n",
            " 10  Transaction Hash  211224 non-null  object        \n",
            " 11  Order ID          211224 non-null  int64         \n",
            " 12  Crossed           211224 non-null  bool          \n",
            " 13  Fee               211224 non-null  float64       \n",
            " 14  Trade ID          211224 non-null  float64       \n",
            " 15  Timestamp         211224 non-null  float64       \n",
            " 16  date              211224 non-null  object        \n",
            " 17  Sentiment         211218 non-null  object        \n",
            "dtypes: bool(1), datetime64[ns](1), float64(8), int64(1), object(7)\n",
            "memory usage: 27.6+ MB\n",
            "None\n"
          ]
        }
      ]
    },
    {
      "cell_type": "code",
      "source": [
        "print(merged_df['Sentiment'].value_counts().plot(kind='bar'))"
      ],
      "metadata": {
        "colab": {
          "base_uri": "https://localhost:8080/",
          "height": 558
        },
        "id": "EX2dLnBOiKev",
        "outputId": "5bf0001d-08e1-441c-858e-4cf64b529a81"
      },
      "execution_count": 9,
      "outputs": [
        {
          "output_type": "stream",
          "name": "stdout",
          "text": [
            "Axes(0.125,0.11;0.775x0.77)\n"
          ]
        },
        {
          "output_type": "display_data",
          "data": {
            "text/plain": [
              "<Figure size 640x480 with 1 Axes>"
            ],
            "image/png": "[encoded data removed]"
          },
          "metadata": {}
        }
      ]
    },
    {
      "cell_type": "code",
      "source": [
        "merged_df['Direction'].value_counts()"
      ],
      "metadata": {
        "colab": {
          "base_uri": "https://localhost:8080/",
          "height": 491
        },
        "id": "JDx33srzlV5l",
        "outputId": "fbef7527-2f23-4cd0-dc20-42c43ce71a3a"
      },
      "execution_count": 10,
      "outputs": [
        {
          "output_type": "execute_result",
          "data": {
            "text/plain": [
              "Direction\n",
              "Open Long                    49895\n",
              "Close Long                   48678\n",
              "Open Short                   39741\n",
              "Close Short                  36013\n",
              "Sell                         19902\n",
              "Buy                          16716\n",
              "Spot Dust Conversion           142\n",
              "Short > Long                    70\n",
              "Long > Short                    57\n",
              "Auto-Deleveraging                8\n",
              "Liquidated Isolated Short        1\n",
              "Settlement                       1\n",
              "Name: count, dtype: int64"
            ],
            "text/html": [
              "<div>\n",
              "<style scoped>\n",
              "    .dataframe tbody tr th:only-of-type {\n",
              "        vertical-align: middle;\n",
              "    }\n",
              "\n",
              "    .dataframe tbody tr th {\n",
              "        vertical-align: top;\n",
              "    }\n",
              "\n",
              "    .dataframe thead th {\n",
              "        text-align: right;\n",
              "    }\n",
              "</style>\n",
              "<table border=\"1\" class=\"dataframe\">\n",
              "  <thead>\n",
              "    <tr style=\"text-align: right;\">\n",
              "      <th></th>\n",
              "      <th>count</th>\n",
              "    </tr>\n",
              "    <tr>\n",
              "      <th>Direction</th>\n",
              "      <th></th>\n",
              "    </tr>\n",
              "  </thead>\n",
              "  <tbody>\n",
              "    <tr>\n",
              "      <th>Open Long</th>\n",
              "      <td>49895</td>\n",
              "    </tr>\n",
              "    <tr>\n",
              "      <th>Close Long</th>\n",
              "      <td>48678</td>\n",
              "    </tr>\n",
              "    <tr>\n",
              "      <th>Open Short</th>\n",
              "      <td>39741</td>\n",
              "    </tr>\n",
              "    <tr>\n",
              "      <th>Close Short</th>\n",
              "      <td>36013</td>\n",
              "    </tr>\n",
              "    <tr>\n",
              "      <th>Sell</th>\n",
              "      <td>19902</td>\n",
              "    </tr>\n",
              "    <tr>\n",
              "      <th>Buy</th>\n",
              "      <td>16716</td>\n",
              "    </tr>\n",
              "    <tr>\n",
              "      <th>Spot Dust Conversion</th>\n",
              "      <td>142</td>\n",
              "    </tr>\n",
              "    <tr>\n",
              "      <th>Short &gt; Long</th>\n",
              "      <td>70</td>\n",
              "    </tr>\n",
              "    <tr>\n",
              "      <th>Long &gt; Short</th>\n",
              "      <td>57</td>\n",
              "    </tr>\n",
              "    <tr>\n",
              "      <th>Auto-Deleveraging</th>\n",
              "      <td>8</td>\n",
              "    </tr>\n",
              "    <tr>\n",
              "      <th>Liquidated Isolated Short</th>\n",
              "      <td>1</td>\n",
              "    </tr>\n",
              "    <tr>\n",
              "      <th>Settlement</th>\n",
              "      <td>1</td>\n",
              "    </tr>\n",
              "  </tbody>\n",
              "</table>\n",
              "</div><br><label><b>dtype:</b> int64</label>"
            ]
          },
          "metadata": {},
          "execution_count": 10
        }
      ]
    },
    {
      "cell_type": "markdown",
      "source": [
        "High number of Long and short openings/closing suggests active Futures(Derivative) Tradings .\n",
        "Traders are equally closing positions indicating nicely regualted trade activities .\n",
        "\n",
        "\n",
        "---\n",
        "Fewer Spot trades than derivatives . Slightly more selling than buying indicates Defensive Sentiment or Profit Booking\n",
        "\n",
        "\n",
        "---\n",
        "* **Liquidation**: Forced Position due to high loss\n",
        "* **Auto Deleveraging**:Closing positions in a volatile Markets to reduce risk by system .\n",
        "* Very few Auto Deleveraging or liquidation events suggests that overall trader health is good .\n",
        "\n",
        "\n",
        "---\n",
        "\n",
        "\n",
        "\n",
        "\n"
      ],
      "metadata": {
        "id": "jyu4RNnRwunw"
      }
    },
    {
      "cell_type": "code",
      "source": [
        "merged_df['Side'].value_counts()"
      ],
      "metadata": {
        "colab": {
          "base_uri": "https://localhost:8080/",
          "height": 178
        },
        "id": "aIg5zDprljK1",
        "outputId": "39e8cfce-4fc6-4d74-f81e-3c2b1781d795"
      },
      "execution_count": 11,
      "outputs": [
        {
          "output_type": "execute_result",
          "data": {
            "text/plain": [
              "Side\n",
              "SELL    108528\n",
              "BUY     102696\n",
              "Name: count, dtype: int64"
            ],
            "text/html": [
              "<div>\n",
              "<style scoped>\n",
              "    .dataframe tbody tr th:only-of-type {\n",
              "        vertical-align: middle;\n",
              "    }\n",
              "\n",
              "    .dataframe tbody tr th {\n",
              "        vertical-align: top;\n",
              "    }\n",
              "\n",
              "    .dataframe thead th {\n",
              "        text-align: right;\n",
              "    }\n",
              "</style>\n",
              "<table border=\"1\" class=\"dataframe\">\n",
              "  <thead>\n",
              "    <tr style=\"text-align: right;\">\n",
              "      <th></th>\n",
              "      <th>count</th>\n",
              "    </tr>\n",
              "    <tr>\n",
              "      <th>Side</th>\n",
              "      <th></th>\n",
              "    </tr>\n",
              "  </thead>\n",
              "  <tbody>\n",
              "    <tr>\n",
              "      <th>SELL</th>\n",
              "      <td>108528</td>\n",
              "    </tr>\n",
              "    <tr>\n",
              "      <th>BUY</th>\n",
              "      <td>102696</td>\n",
              "    </tr>\n",
              "  </tbody>\n",
              "</table>\n",
              "</div><br><label><b>dtype:</b> int64</label>"
            ]
          },
          "metadata": {},
          "execution_count": 11
        }
      ]
    },
    {
      "cell_type": "code",
      "source": [
        "##Giving a code to each sentiment\n",
        "merged_df['Sentiment_Code']=merged_df['Sentiment'].map({'Extreme Fear':2,'Fear':1,'Neutral':0,'Greed':-1,'Extreme Greed':-2})\n",
        "\n",
        "merged_df['Side_Numeric']=merged_df['Side'].map({'Buy':1,'Sell':0})"
      ],
      "metadata": {
        "id": "P8nDXgtAhOWj"
      },
      "execution_count": 12,
      "outputs": []
    },
    {
      "cell_type": "code",
      "source": [
        "# Average PnL by Sentiment\n",
        "avg_pnl = merged_df.groupby('Sentiment')['Closed PnL'].mean()\n",
        "print(avg_pnl)\n",
        "\n",
        "# Box plot of PnL\n",
        "sns.boxplot(data=merged_df, x='Sentiment', y='Closed PnL')\n",
        "plt.title(\"Trader PnL Distribution by Market Sentiment\")\n",
        "plt.xticks(rotation=30)\n",
        "plt.show()"
      ],
      "metadata": {
        "colab": {
          "base_uri": "https://localhost:8080/",
          "height": 650
        },
        "id": "DqPcTlTRmtRG",
        "outputId": "d3c4011b-ec80-4ff4-d869-e1a0958ba1da"
      },
      "execution_count": 13,
      "outputs": [
        {
          "output_type": "stream",
          "name": "stdout",
          "text": [
            "Sentiment\n",
            "Extreme Fear     34.537862\n",
            "Extreme Greed    67.892861\n",
            "Fear             54.290400\n",
            "Greed            42.743559\n",
            "Neutral          34.307718\n",
            "Name: Closed PnL, dtype: float64\n"
          ]
        },
        {
          "output_type": "display_data",
          "data": {
            "text/plain": [
              "<Figure size 640x480 with 1 Axes>"
            ],
            "image/png": "[encoded data removed]"
          },
          "metadata": {}
        }
      ]
    },
    {
      "cell_type": "markdown",
      "source": [
        "**From the above graph correlating Closed PnL with Sentiment we can see that traders gain the most using the fear sentiment and loose the most when overpowered by greed. However in case of Extreme emotions or neutral sentiments we can see that the Closed Pnl isn't varied much. The closedPnL variation is similar in case of Neutral and Extreme Greed.**\n",
        "\n",
        "\n",
        "*   Minimum Losses come in case of Extreme Greed\n",
        "*   Maximum Profit is related to Fear Sentiment\n",
        "*   Maximum Loss is when a trader is blinded by greed .\n",
        "\n"
      ],
      "metadata": {
        "id": "1Kt9sSyRndX8"
      }
    },
    {
      "cell_type": "code",
      "source": [
        "# selling More or buying More in different sentiments\n",
        "sns.countplot(data=merged_df, x='Sentiment', hue='Side')\n",
        "plt.title(\"Buy vs Sell Trades in Different Market Sentiments\")\n",
        "plt.show()"
      ],
      "metadata": {
        "colab": {
          "base_uri": "https://localhost:8080/",
          "height": 472
        },
        "id": "siNXO60RoXFC",
        "outputId": "5d3e840f-26a8-4b2b-c61d-38fa2ce23921"
      },
      "execution_count": 14,
      "outputs": [
        {
          "output_type": "display_data",
          "data": {
            "text/plain": [
              "<Figure size 640x480 with 1 Axes>"
            ],
            "image/png": "[encoded data removed]"
          },
          "metadata": {}
        }
      ]
    },
    {
      "cell_type": "markdown",
      "source": [
        "\n",
        "\n",
        "*   **In extreme fear both buying and selling drops as trader want to take very less risk**\n",
        "*   **In Fear , traders sell comparatively more than buying .**\n",
        "\n",
        "\n"
      ],
      "metadata": {
        "id": "99c2FBbUu9zj"
      }
    },
    {
      "cell_type": "code",
      "source": [
        "from scipy.stats import ttest_ind\n",
        "\n",
        "# Compare PnL in Fear vs. Greed\n",
        "fear_pnl = merged_df[merged_df['Sentiment'] == 'Fear']['Closed PnL']\n",
        "greed_pnl = merged_df[merged_df['Sentiment'] == 'Greed']['Closed PnL']\n",
        "\n",
        "t_stat, p_val = ttest_ind(fear_pnl, greed_pnl, equal_var=False)\n",
        "print(f\"T-Statistic = {t_stat:.2f}, P-Value = {p_val:.4f}\")\n"
      ],
      "metadata": {
        "id": "S7C2D8LntAnr",
        "colab": {
          "base_uri": "https://localhost:8080/"
        },
        "outputId": "bec2c47d-7c02-4e83-fc27-28d31dc16c25"
      },
      "execution_count": 15,
      "outputs": [
        {
          "output_type": "stream",
          "name": "stdout",
          "text": [
            "T-Statistic = 1.85, P-Value = 0.0642\n"
          ]
        }
      ]
    },
    {
      "cell_type": "markdown",
      "source": [
        "A t-test compares the mean of two groups :\n",
        "*  and tell us whether the difference is real/significant or occured randomnly\n",
        "*  A larger t_stat(positive or negative) is a stronger evidence of difference.\n",
        "*  It measures how different the two means are with respect to variation in data .\n",
        "*  Our T-stat= 1.85 . So it is a moderate evidence of difference between PnL of fear and PnL of Greed . We can infer from this that the traders performs significantly different in different emotions .\n",
        "*  But as the p-value>0.05 , it means a weak evidence of difference . It means sentiments have a possible effect but it is weak .  \n",
        "* A positive t-stat and p-value > 0.05 suggests that the trader performance is better in fear but not significant .\n"
      ],
      "metadata": {
        "id": "50DE5-u9GCFL"
      }
    },
    {
      "cell_type": "code",
      "source": [
        "# Compare PnL in Extreme Fear vs. Extreme Greed\n",
        "extreme_fear_pnl = merged_df[merged_df['Sentiment'] == 'Extreme Fear']['Closed PnL']\n",
        "extreme_greed_pnl = merged_df[merged_df['Sentiment'] == 'Extreme Greed']['Closed PnL']\n",
        "\n",
        "t_stat, p_val = ttest_ind(extreme_fear_pnl, extreme_greed_pnl, equal_var=False)\n",
        "print(f\"T-Statistic for extreme fear v/s extreme greed = {t_stat:.2f},and P-Value = {p_val:.4f}\")"
      ],
      "metadata": {
        "colab": {
          "base_uri": "https://localhost:8080/"
        },
        "id": "oECLu2Okj69D",
        "outputId": "c33f256e-4f68-40d0-abbd-bb311a7fb244"
      },
      "execution_count": 16,
      "outputs": [
        {
          "output_type": "stream",
          "name": "stdout",
          "text": [
            "T-Statistic for extreme fear v/s extreme greed = -3.85,and P-Value = 0.0001\n"
          ]
        }
      ]
    },
    {
      "cell_type": "markdown",
      "source": [
        "* p-value < 0.01 suggests strong evidence of difference and likely tells that the trader performance differs by sentiment in case of Extreme fear and extreme greed .\n",
        "* A negative t-stat suggests that the average closed PnL in case of Extreme fear is less than average closed PnL in Extreme greed .\n",
        "* A negative t-stat and p-value< 0.05 shows that traders perform significantly worse in extreme fear when compared to extreme greed ."
      ],
      "metadata": {
        "id": "uDgs_w6Kklyv"
      }
    },
    {
      "cell_type": "code",
      "source": [
        "# Compare PnL in Fear vs. Neutral Sentiment\n",
        "fear_pnl = merged_df[merged_df['Sentiment'] == 'Fear']['Closed PnL']\n",
        "neutral_pnl = merged_df[merged_df['Sentiment'] == 'Neutral']['Closed PnL']\n",
        "\n",
        "t_stat, p_val = ttest_ind(fear_pnl, neutral_pnl, equal_var=False)\n",
        "print(f\"T-Statistic for fear v/s neutral PnL = {t_stat:.2f},and P-Value = {p_val:.6f}\")\n",
        "t_stat, p_val = ttest_ind(greed_pnl, neutral_pnl, equal_var=False)\n",
        "print(f\"T-Statistic for greed v/s neutral PnL = {t_stat:.2f},and P-Value = {p_val:.4f}\")"
      ],
      "metadata": {
        "colab": {
          "base_uri": "https://localhost:8080/"
        },
        "id": "WUEvGaxMmSk0",
        "outputId": "652b04b7-3781-4240-ffed-6cd574379746"
      },
      "execution_count": 22,
      "outputs": [
        {
          "output_type": "stream",
          "name": "stdout",
          "text": [
            "T-Statistic for fear v/s neutral PnL = 4.34,and P-Value = 0.000015\n",
            "T-Statistic for greed v/s neutral PnL = 1.49,and P-Value = 0.1350\n"
          ]
        }
      ]
    },
    {
      "cell_type": "markdown",
      "source": [
        "The t-stat for fear v/s neutral suggests that Average Closed PnL during Fear sentiment is much more than neutral leading to the conclusion that fear is much more benificial in trading .\n",
        "Also P-value being extremely small provides very strong evidence of difference .\n",
        "\n",
        "\n",
        "---\n",
        "For Greed sentiment , the value of t-stat is much lower representing that Greed is not very much beneficial as compared to neutral sentiment of market .\n",
        "And a very high p-value suggests no significant impact or difference .\n",
        "\n",
        "\n",
        "---\n",
        "\n",
        "\n"
      ],
      "metadata": {
        "id": "vIQWlEVOnhOr"
      }
    },
    {
      "cell_type": "markdown",
      "source": [
        "# **Modelling the data on the basis of Side and Closed PnL**\n",
        "* Can help us to test whether trade features affect market sentiments\n",
        "* This can be useful for building smarter bots or detecting market shifts ."
      ],
      "metadata": {
        "id": "0JenOL40tbAx"
      }
    },
    {
      "cell_type": "code",
      "source": [
        "from sklearn.model_selection import train_test_split\n",
        "from sklearn.ensemble import RandomForestClassifier\n",
        "from sklearn.metrics import classification_report\n",
        "\n",
        "# Features for modeling\n",
        "features = ['Side_Numeric', 'Closed PnL']\n",
        "X = merged_df[features].fillna(0)\n",
        "y = merged_df['Sentiment_Code'].fillna(0)\n",
        "X_train, X_test, y_train, y_test = train_test_split(X, y, test_size=0.2)\n",
        "\n",
        "model = RandomForestClassifier()\n",
        "model.fit(X_train, y_train)\n",
        "\n",
        "# Predict and evaluate\n",
        "y_pred = model.predict(X_test)\n",
        "print(classification_report(y_test, y_pred))\n"
      ],
      "metadata": {
        "id": "Lafg_Q-htEMn",
        "colab": {
          "base_uri": "https://localhost:8080/"
        },
        "outputId": "7e01d98c-c228-456f-cccd-69bab3271250"
      },
      "execution_count": 18,
      "outputs": [
        {
          "output_type": "stream",
          "name": "stdout",
          "text": [
            "              precision    recall  f1-score   support\n",
            "\n",
            "        -2.0       0.32      0.17      0.22      7847\n",
            "        -1.0       0.36      0.18      0.24     10223\n",
            "         0.0       0.30      0.15      0.20      7498\n",
            "         1.0       0.32      0.71      0.44     12296\n",
            "         2.0       0.26      0.12      0.17      4381\n",
            "\n",
            "    accuracy                           0.32     42245\n",
            "   macro avg       0.31      0.27      0.25     42245\n",
            "weighted avg       0.32      0.32      0.28     42245\n",
            "\n"
          ]
        }
      ]
    },
    {
      "cell_type": "markdown",
      "source": [
        "\n",
        "\n",
        "*   **Precision** = True positives /(True Positives + False Positives)\n",
        "*   **Recall** = True positives /(True Positives + False Negatives)\n",
        "*   **F1-Score** = 2.(Precision*Recall)/(Precision+Recall)\n",
        "*   **Support** = Number of actual samples in each class\n",
        "\n"
      ],
      "metadata": {
        "id": "tWUixY0WuBTk"
      }
    },
    {
      "cell_type": "markdown",
      "source": [
        "\n",
        "\n",
        "#1.   **Extreme Greed(-2)** :\n",
        "*  Low Precision , Low recall tells us there are many false positives and false negatives\n",
        "*  False Positives can be costly . If Extreme Greed is wrongly identified it can lead to riskier trades .\n",
        "\n",
        "\n",
        "---\n",
        "\n",
        "\n",
        "#2.   **Greed(-1)** :\n",
        "*  Precision and Recall both are low and suggesst that prediction of Greed is not done accurately .\n",
        "*  It is alarming as second most number of samples **(support)** belong to Greed and still the model is not able to generalize .   \n",
        "\n",
        "\n",
        "---\n",
        "\n",
        "\n",
        "#3.   **Neutral(0)**:\n",
        "*  All the metrics are low suggesting there are high number of false positives and false negatives .\n",
        "*  This suggest that the given trade features are insufficient to detect the sentiments of traders   \n",
        "\n",
        "\n",
        "---\n",
        "\n",
        "\n",
        "#4.   **Fear(1)**:\n",
        "*  Precision is low(more false positives) but recall is high(few false negatives)\n",
        "*  This suggests an imbalence in the data that's why we need F1 score which is harmonic mean of Precision and recall .\n",
        "*  The F1 Score of 0.44 suggests that the model is underperforming and weak .\n",
        "\n",
        "\n",
        "---\n",
        "\n",
        "\n",
        "#5.   **Extreme Fear(2)**:\n",
        "*  All the metrics are low . Number of samples (support) for the case of extreme fear is the least\n",
        "* The F1-score < 0.40 indicates unstability and also is not usable in production .  \n",
        "\n"
      ],
      "metadata": {
        "id": "447u00M_xESg"
      }
    },
    {
      "cell_type": "markdown",
      "source": [
        "# **Lets try some other Models**"
      ],
      "metadata": {
        "id": "4m2eddy-6fcG"
      }
    },
    {
      "cell_type": "code",
      "source": [
        "from sklearn.exceptions import UndefinedMetricWarning\n",
        "import warnings\n",
        "warnings.filterwarnings(\"ignore\", category=UndefinedMetricWarning)"
      ],
      "metadata": {
        "id": "Mv1Quc39sgXl"
      },
      "execution_count": 31,
      "outputs": []
    },
    {
      "cell_type": "code",
      "source": [
        "#1. Logistic Regression\n",
        "from sklearn.model_selection import train_test_split\n",
        "from sklearn.linear_model import LogisticRegression\n",
        "from sklearn.metrics import classification_report\n",
        "\n",
        "features = ['Side_Numeric', 'Closed PnL']\n",
        "merged_df['Side_Numeric'] = merged_df['Side'].map({'BUY': 1, 'SELL': 0})\n",
        "\n",
        "# Drop rows with NaN values in either features or target\n",
        "cleaned_df = merged_df.dropna(subset=features + ['Sentiment_Code'])\n",
        "X = cleaned_df[features]\n",
        "y = cleaned_df['Sentiment_Code']\n",
        "\n",
        "X_train, X_test, y_train, y_test = train_test_split(X, y, test_size=0.2)\n",
        "\n",
        "model = LogisticRegression()\n",
        "model.fit(X_train, y_train)\n",
        "\n",
        "# Predict and evaluate\n",
        "y_pred = model.predict(X_test)\n",
        "print(classification_report(y_test, y_pred))"
      ],
      "metadata": {
        "id": "UlpwcF0mtHZo",
        "colab": {
          "base_uri": "https://localhost:8080/"
        },
        "outputId": "efe10009-9e19-4639-fe39-41b519f165fe"
      },
      "execution_count": 32,
      "outputs": [
        {
          "output_type": "stream",
          "name": "stdout",
          "text": [
            "              precision    recall  f1-score   support\n",
            "\n",
            "        -2.0       0.00      0.00      0.00      7900\n",
            "        -1.0       0.33      0.00      0.00     10008\n",
            "         0.0       0.09      0.00      0.00      7462\n",
            "         1.0       0.30      1.00      0.46     12546\n",
            "         2.0       0.00      0.00      0.00      4328\n",
            "\n",
            "    accuracy                           0.30     42244\n",
            "   macro avg       0.14      0.20      0.09     42244\n",
            "weighted avg       0.18      0.30      0.14     42244\n",
            "\n"
          ]
        }
      ]
    },
    {
      "cell_type": "code",
      "source": [
        "#2. Naive Bayes\n",
        "from sklearn.model_selection import train_test_split\n",
        "from sklearn.naive_bayes import GaussianNB\n",
        "from sklearn.metrics import classification_report\n",
        "\n",
        "# Features for modeling\n",
        "features = ['Side_Numeric', 'Closed PnL']\n",
        "X = merged_df[features].fillna(0)\n",
        "y = merged_df['Sentiment_Code'].fillna(0)\n",
        "X_train, X_test, y_train, y_test = train_test_split(X, y, test_size=0.2)\n",
        "\n",
        "model = GaussianNB()\n",
        "model.fit(X_train, y_train)\n",
        "\n",
        "# Predict and evaluate\n",
        "y_pred = model.predict(X_test)\n",
        "print(classification_report(y_test, y_pred))"
      ],
      "metadata": {
        "colab": {
          "base_uri": "https://localhost:8080/"
        },
        "id": "FPHyd62f7cgP",
        "outputId": "cc1c643e-18c4-4063-ef2f-202b11d78f81"
      },
      "execution_count": 33,
      "outputs": [
        {
          "output_type": "stream",
          "name": "stdout",
          "text": [
            "              precision    recall  f1-score   support\n",
            "\n",
            "        -2.0       0.00      0.00      0.00      7972\n",
            "        -1.0       0.25      0.01      0.01     10113\n",
            "         0.0       0.18      0.97      0.30      7518\n",
            "         1.0       0.29      0.03      0.05     12367\n",
            "         2.0       0.00      0.00      0.00      4275\n",
            "\n",
            "    accuracy                           0.18     42245\n",
            "   macro avg       0.14      0.20      0.07     42245\n",
            "weighted avg       0.18      0.18      0.07     42245\n",
            "\n"
          ]
        }
      ]
    },
    {
      "cell_type": "code",
      "source": [
        "#3. Neural Networks\n",
        "from sklearn.model_selection import train_test_split\n",
        "from sklearn.neural_network import MLPClassifier\n",
        "from sklearn.metrics import classification_report\n",
        "\n",
        "# Features for modeling\n",
        "features = ['Side_Numeric', 'Closed PnL']\n",
        "X = merged_df[features].fillna(0)\n",
        "y = merged_df['Sentiment_Code'].fillna(0)\n",
        "X_train, X_test, y_train, y_test = train_test_split(X, y, test_size=0.2)\n",
        "\n",
        "model = MLPClassifier(hidden_layer_sizes=(64, 32), max_iter=500)\n",
        "model.fit(X_train, y_train)\n",
        "\n",
        "# Predict and evaluate\n",
        "y_pred = model.predict(X_test)\n",
        "print(classification_report(y_test, y_pred))"
      ],
      "metadata": {
        "colab": {
          "base_uri": "https://localhost:8080/"
        },
        "id": "H2yoI9I07rfn",
        "outputId": "6ad86e6d-3f30-41fe-e5f0-d3465921e68b"
      },
      "execution_count": 34,
      "outputs": [
        {
          "output_type": "stream",
          "name": "stdout",
          "text": [
            "              precision    recall  f1-score   support\n",
            "\n",
            "        -2.0       0.27      0.01      0.01      7861\n",
            "        -1.0       0.31      0.38      0.34     10126\n",
            "         0.0       0.00      0.00      0.00      7576\n",
            "         1.0       0.31      0.74      0.43     12384\n",
            "         2.0       0.00      0.00      0.00      4298\n",
            "\n",
            "    accuracy                           0.31     42245\n",
            "   macro avg       0.18      0.22      0.16     42245\n",
            "weighted avg       0.22      0.31      0.21     42245\n",
            "\n"
          ]
        }
      ]
    },
    {
      "cell_type": "markdown",
      "source": [
        "All the models are performing nice for a particular sentiment .\n",
        "\n",
        "\n",
        "---\n",
        "\n",
        "\n",
        " For Example :\n",
        " * Recall metric of fear sentiment for MLP classifier indicates there are only few false negatives and it is very close to ideal case but precision tells story of data imbalance.\n",
        " * Naive Bayes does a good job for neutral sentiment with very few false negatives but low precision tells us that there are many false positives .  \n",
        " *  Logistic Regression performs worse of all with F1 score of 0 for all sentiments and 0.45 for fear . Precision being set to 0 means our model is not predicting that class even one time\n",
        "\n",
        "---\n",
        "\n",
        "\n",
        "Other Models perform worse than the RandomForests. It suggests that more features are needed to predict the market sentiment nicely .\n",
        "\n",
        "\n",
        "---\n",
        "\n"
      ],
      "metadata": {
        "id": "JFb00Izr-iRt"
      }
    },
    {
      "cell_type": "markdown",
      "source": [
        "# **Conclusion**\n",
        "# Sentiment & Trader Behavior Analysis\n",
        "\n",
        "##  Objective\n",
        "Our goal is to investigate whether market sentiment (Fear or Greed or Extreme case of these emotions) have a significant impact on trader behavior and performance.\n",
        "\n",
        "---\n",
        "\n",
        "##  Dataset Overview\n",
        "\n",
        "We worked with two datasets:\n",
        "- `fear_greed_index.csv` (Daily market sentiment)\n",
        "- `historical_data.csv` (Trade-level data from Hyperliquid)\n",
        "\n",
        "---\n",
        "\n",
        "##  Data Cleaning and Preprocessing\n",
        "\n",
        "We aligned timestamp formats and merged sentiment with trade data by date.\n",
        "\n",
        "---\n",
        "\n",
        "##  Exploratory Data Analysis (EDA)\n",
        "\n",
        "- Fear is the leading sentiment for Trade.\n",
        "- Extreme Greed corressponds to very few and minimal losses.\n",
        "- PnL distributions are more widespread during 'Greed'.\n",
        "- A vast amount of trade happens in fear . Trade drops by a large amount in extreme fear .\n",
        "- Even Trade during Greed is comparatively less than the trade during Fear.\n",
        "- Fear is also the most profitable sentiment\n",
        "- Traders are investing in futures more than spot trading .\n",
        "- There are a few traders flipping positions possibly reacting to sudden market sentiments .\n",
        "\n",
        "###  Insight:\n",
        "> Traders seem to take advantage of fear sentiment in market to book profit .\n",
        "\n",
        "> Market shows balanced long and short trading activities with a slight bias towards long positions . Long Positions indicate that traders expect prices to go up\n",
        "\n",
        "> Spot Market activity is relatively low compared to Derivatives/Futures , indicating traders are focused on short term profit positions .\n",
        "\n",
        "> There is slightly more selling than buying in spot suggesting Defensive sentiment or Profit Booking\n",
        "\n",
        "> Very Few Liquidation and Auto Deleveraging positions represents that overall trader health is good .\n",
        "\n",
        "\n",
        "---\n",
        "\n",
        "##  Statistical Testing\n",
        "\n",
        "We performed a two-sample t-test to compare closedPnL across sentiments.\n",
        "\n",
        "```python\n",
        "Sentiments                     | T-stat |  P-value | Inference\n",
        "Fear V/s Greed                 | 1.85   |  0.0642  |No significant impact\n",
        "Extreme Fear V/s Extreme Greed |-3.85   |  0.0001  |Extreme Greed MoreProfitable\n",
        "Fear V/s Neutral               | 4.34   |  0.000015|Fear is beneficial for trade\n",
        "Greed V/s Neutral              | 1.49   |  0.1350  |No significant impact  \n",
        "```\n",
        "\n",
        "\n",
        "---\n",
        "\n",
        "\n",
        "## Modelling Data\n",
        "> Random Forests is best of all model tried but underperforms\n",
        "\n",
        "> Need more features to be analysed for modelling purpose .\n",
        "\n",
        "> F1 Score is low for all sentiments .\n"
      ],
      "metadata": {
        "id": "AQs8PyiqtNPp"
      }
    }
  ]
}